{
 "cells": [
  {
   "cell_type": "code",
   "execution_count": 223,
   "metadata": {
    "collapsed": false
   },
   "outputs": [],
   "source": [
    "from pyspark import SparkConf, SparkContext\n",
    "from collections import OrderedDict\n",
    "from functools import partial\n",
    "import re\n",
    "\n",
    "from numpy import array\n",
    "from math import sqrt\n",
    "import numpy as np"
   ]
  },
  {
   "cell_type": "code",
   "execution_count": 224,
   "metadata": {
    "collapsed": false
   },
   "outputs": [],
   "source": [
    "partitions = 64\n",
    "parlog = sc.textFile(\"/user/milroy/lustre_debug.out\", partitions)"
   ]
  },
  {
   "cell_type": "code",
   "execution_count": 225,
   "metadata": {
    "collapsed": false
   },
   "outputs": [
    {
     "data": {
      "text/plain": [
       "[u'00010000:00080000:2.1F:1433384402.983324:0:0:0:(ldlm_lib.c:2008:target_recovery_expired()) scratch-MDT0000: recovery timed out; 2 clients are still in recovery after 300s (136 clients connected)',\n",
       " u'00000100:00080000:22.0:1433439189.202419:0:28364:0:(service.c:789:ptlrpc_update_export_timer()) updating export e0b948f3-2c66-de79-82f6-858c54bcf73f at 1433439189 exp ffff8805feae1000',\n",
       " u'00000100:00080000:22.0:1433439189.205134:0:28364:0:(service.c:789:ptlrpc_update_export_timer()) updating export 1915dbbb-3d37-10c8-c161-d533b76bcbcb at 1433439189 exp ffff8805cf6dec00',\n",
       " u'00000100:00080000:22.0:1433439189.208987:0:28364:0:(service.c:789:ptlrpc_update_export_timer()) updating export 37147439-d85e-5002-0501-0315cbd3a063 at 1433439189 exp ffff8805cf5f7800',\n",
       " u'00000100:00080000:22.0:1433439189.213463:0:28364:0:(service.c:789:ptlrpc_update_export_timer()) updating export ed7c79f9-b42b-ce30-ba52-38106df6aaed at 1433439189 exp ffff8805b6a0dc00',\n",
       " u'00000100:00080000:22.0:1433439189.215960:0:28364:0:(service.c:789:ptlrpc_update_export_timer()) updating export 352aa199-a505-6fb6-96f6-bb641b17474f at 1433439189 exp ffff8802f1373800',\n",
       " u'00000100:00080000:22.0:1433439189.232961:0:28364:0:(service.c:789:ptlrpc_update_export_timer()) updating export 9bd403bb-4d2e-7d02-1c22-2c809edefa3d at 1433439189 exp ffff8802f2b85000',\n",
       " u'00000100:00080000:22.0:1433439189.303157:0:28364:0:(service.c:789:ptlrpc_update_export_timer()) updating export 2d28e2ea-bedc-ad07-b49a-6f20c20f841b at 1433439189 exp ffff8805b4d34000',\n",
       " u'00000100:00080000:22.0:1433439189.306565:0:28364:0:(service.c:789:ptlrpc_update_export_timer()) updating export 7207a313-9b1d-d5ee-2100-a3ca8c509e95 at 1433439189 exp ffff8805bb752800',\n",
       " u'00000100:00080000:22.0:1433439189.321356:0:28364:0:(service.c:789:ptlrpc_update_export_timer()) updating export 63d06ebf-337a-7077-3d09-00074c38d802 at 1433439189 exp ffff8805c7210c00']"
      ]
     },
     "execution_count": 225,
     "metadata": {},
     "output_type": "execute_result"
    }
   ],
   "source": [
    "parlog.take(10)"
   ]
  },
  {
   "cell_type": "code",
   "execution_count": 326,
   "metadata": {
    "collapsed": false
   },
   "outputs": [],
   "source": [
    "words = parlog.filter(lambda line: line.count('-') > 3).filter(\n",
    "    lambda line: 'updating' in line).map(lambda line: re.split('\\W+', line.lower().strip()))"
   ]
  },
  {
   "cell_type": "code",
   "execution_count": null,
   "metadata": {
    "collapsed": false
   },
   "outputs": [],
   "source": [
    "words.take(3)"
   ]
  },
  {
   "cell_type": "code",
   "execution_count": 329,
   "metadata": {
    "collapsed": false
   },
   "outputs": [],
   "source": [
    "exports = words.flatMap(lambda line: [[int(line[7]), str(x), str(''.join(line[15:19]))] \n",
    "                                      for x in line if x.startswith('ffff')])"
   ]
  },
  {
   "cell_type": "code",
   "execution_count": 330,
   "metadata": {
    "collapsed": false
   },
   "outputs": [
    {
     "data": {
      "text/plain": [
       "[[28364, 'ffff8805feae1000', 'e0b948f32c66de7982f6']]"
      ]
     },
     "execution_count": 330,
     "metadata": {},
     "output_type": "execute_result"
    }
   ],
   "source": [
    "exports.take(1)"
   ]
  },
  {
   "cell_type": "code",
   "execution_count": 331,
   "metadata": {
    "collapsed": false
   },
   "outputs": [],
   "source": [
    "to_int = exports.map(lambda row: [row[0], int(row[1], 16), int(row[2], 16)])"
   ]
  },
  {
   "cell_type": "code",
   "execution_count": 332,
   "metadata": {
    "collapsed": false
   },
   "outputs": [
    {
     "data": {
      "text/plain": [
       "[[28364, 18446612158061875200L, 1061227996410447197209334L],\n",
       " [28364, 18446612157269142528L, 118462377013510696124769L],\n",
       " [28364, 18446612157268195328L, 260107466402186330768641L],\n",
       " [28364, 18446612156853050368L, 1121497041959493926173266L],\n",
       " [28364, 18446612144951080960L, 251071831362941308278518L],\n",
       " [28364, 18446612144976318464L, 735877783481886252866594L],\n",
       " [28364, 18446612156822798336L, 213260712583334543733914L],\n",
       " [28364, 18446612156934072320L, 538490657162060706488576L],\n",
       " [28364, 18446612157129886720L, 471359184725092152589577L],\n",
       " [28364, 18446612156607994880L, 734911401062701910371150L]]"
      ]
     },
     "execution_count": 332,
     "metadata": {},
     "output_type": "execute_result"
    }
   ],
   "source": [
    "to_int.take(10)"
   ]
  },
  {
   "cell_type": "code",
   "execution_count": 333,
   "metadata": {
    "collapsed": false
   },
   "outputs": [],
   "source": [
    "to_vector = to_int.map(lambda row: np.asarray([float(x) for x in row]))"
   ]
  },
  {
   "cell_type": "code",
   "execution_count": 342,
   "metadata": {
    "collapsed": false
   },
   "outputs": [
    {
     "data": {
      "text/plain": [
       "[array([  2.83640000e+04,   1.84466122e+19,   1.06122800e+24]),\n",
       " array([  2.83640000e+04,   1.84466122e+19,   1.18462377e+23])]"
      ]
     },
     "execution_count": 342,
     "metadata": {},
     "output_type": "execute_result"
    }
   ],
   "source": [
    "to_vector.take(2)"
   ]
  },
  {
   "cell_type": "code",
   "execution_count": 344,
   "metadata": {
    "collapsed": false
   },
   "outputs": [],
   "source": [
    "from pyspark.mllib.stat import Statistics"
   ]
  },
  {
   "cell_type": "code",
   "execution_count": 347,
   "metadata": {
    "collapsed": true
   },
   "outputs": [],
   "source": [
    "pearsonCorr = Statistics.corr(to_vector, method=\"spearman\")"
   ]
  },
  {
   "cell_type": "code",
   "execution_count": 348,
   "metadata": {
    "collapsed": false
   },
   "outputs": [
    {
     "data": {
      "text/plain": [
       "array([[  1.00000000e+00,  -2.93146845e-03,  -2.03278004e-04],\n",
       "       [ -2.93146845e-03,   1.00000000e+00,  -2.72207813e-02],\n",
       "       [ -2.03278004e-04,  -2.72207813e-02,   1.00000000e+00]])"
      ]
     },
     "execution_count": 348,
     "metadata": {},
     "output_type": "execute_result"
    }
   ],
   "source": [
    "pearsonCorr"
   ]
  }
 ],
 "metadata": {
  "kernelspec": {
   "display_name": "Python 2",
   "language": "python",
   "name": "python2"
  },
  "language_info": {
   "codemirror_mode": {
    "name": "ipython",
    "version": 2
   },
   "file_extension": ".py",
   "mimetype": "text/x-python",
   "name": "python",
   "nbconvert_exporter": "python",
   "pygments_lexer": "ipython2",
   "version": "2.7.10"
  }
 },
 "nbformat": 4,
 "nbformat_minor": 0
}
