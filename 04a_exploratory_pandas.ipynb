{
 "cells": [
  {
   "cell_type": "markdown",
   "metadata": {
    "slideshow": {
     "slide_type": "slide"
    }
   },
   "source": [
    "# Getting Started with Exploratory Data Analysis\n",
    "\n",
    "3 important Python packages\n",
    "1. NumPy for efficient computation on arrays\n",
    "2. Pandas for data analysis for small and medium data\n",
    "3. Matplotlib for plotting in the notebook\n",
    "\n",
    "## Outline\n",
    "- Pandas basic concepts\n",
    "- Analysis of a Lustre logfile\n",
    "    - Machine learning\n",
    "- Analysis of Penguin data\n",
    "    - Plotting on world map"
   ]
  },
  {
   "cell_type": "code",
   "execution_count": 1,
   "metadata": {
    "collapsed": true
   },
   "outputs": [],
   "source": [
    "import os\n",
    "import numpy as np\n",
    "import pandas as pd\n",
    "import matplotlib.pyplot as plt\n",
    "%matplotlib inline"
   ]
  },
  {
   "cell_type": "markdown",
   "metadata": {
    "slideshow": {
     "slide_type": "slide"
    }
   },
   "source": [
    "## Pandas\n",
    "\n",
    "Python module for manipulating tabular data\n",
    "\n",
    "## `pandas`\n",
    "\n",
    "- Provides python a `DataFrame`\n",
    "- Structured manipulation tools\n",
    "- Built on top of `numpy`\n",
    "- Huge growth from 2011-2012\n",
    "- Very **efficient**\n",
    "- Great for *medium* data\n",
    "\n",
    "Resources\n",
    "\n",
    "- [pandas.pydata.org](http://pandas.pydata.org/)\n",
    "- [Python for Data Analysis](http://www.amazon.com/Python-Data-Analysis-Wrangling-IPython/dp/1449319793) by Wes McKinney\n",
    "- [Data Wrangling Kung Fu with Pandas](vimeo.com/63295598) by Wes McKinney\n",
    "- [Cheat sheet](https://s3.amazonaws.com/quandl-static-content/Documents/Quandl+-+Pandas,+SciPy,+NumPy+Cheat+Sheet.pdf) by Quandl"
   ]
  },
  {
   "cell_type": "markdown",
   "metadata": {
    "slideshow": {
     "slide_type": "slide"
    }
   },
   "source": [
    "### Why `pandas`?\n",
    "\n",
    "> 80% of the effort in data analysis is spent cleaning data. [Hadley Wickham](http://vita.had.co.nz/papers/tidy-data.pdf)\n",
    "\n",
    "Efficency\n",
    "\n",
    "- Different views of data\n",
    "- [Tidy data](http://vita.had.co.nz/papers/tidy-data.pdf) by Hadley Wickham\n",
    "\n",
    "Raw data is often in the wrong format\n",
    "\n",
    "- How often to you download an array ready for array-oriented computing?\n",
    "- e.g. `scikit-learn` interface\n",
    "\n",
    "Storage may be best in a different format\n",
    "\n",
    "- Sparse representations\n",
    "- Upload to database\n",
    "\n",
    "\n"
   ]
  },
  {
   "cell_type": "markdown",
   "metadata": {
    "collapsed": true
   },
   "source": [
    "## Converting a logfile into a Pandas Data Frame\n",
    "\n",
    "Log file contains the following columsn\n",
    "- host\n",
    "- metric\n",
    "- value \n",
    "- type of value\n",
    "- units of value\n",
    "- time stamp\n",
    "\n",
    "Steps we are taking:\n",
    "- Read the CSV file\n",
    "- Add the column names\n"
   ]
  },
  {
   "cell_type": "code",
   "execution_count": 7,
   "metadata": {
    "collapsed": false
   },
   "outputs": [
    {
     "ename": "AttributeError",
     "evalue": "'DataFrame' object has no attribute 'read_csv'",
     "output_type": "error",
     "traceback": [
      "\u001b[0;31m---------------------------------------------------------------------------\u001b[0m",
      "\u001b[0;31mAttributeError\u001b[0m                            Traceback (most recent call last)",
      "\u001b[0;32m<ipython-input-7-5dbf28a0eb9d>\u001b[0m in \u001b[0;36m<module>\u001b[0;34m()\u001b[0m\n\u001b[1;32m      1\u001b[0m \u001b[0mcsv_filename\u001b[0m \u001b[0;34m=\u001b[0m \u001b[0;34m'2014-04-24.csv'\u001b[0m\u001b[0;34m\u001b[0m\u001b[0m\n\u001b[1;32m      2\u001b[0m \u001b[0mdf\u001b[0m \u001b[0;34m=\u001b[0m \u001b[0mpd\u001b[0m\u001b[0;34m.\u001b[0m\u001b[0mDataFrame\u001b[0m\u001b[0;34m(\u001b[0m\u001b[0mcolumns\u001b[0m\u001b[0;34m=\u001b[0m\u001b[0;34m[\u001b[0m\u001b[0;34m'host'\u001b[0m\u001b[0;34m,\u001b[0m \u001b[0;34m'metric'\u001b[0m\u001b[0;34m,\u001b[0m \u001b[0;34m'value'\u001b[0m\u001b[0;34m,\u001b[0m \u001b[0;34m'type'\u001b[0m\u001b[0;34m,\u001b[0m \u001b[0;34m'units'\u001b[0m\u001b[0;34m,\u001b[0m \u001b[0;34m'time stamp'\u001b[0m\u001b[0;34m]\u001b[0m\u001b[0;34m)\u001b[0m\u001b[0;34m\u001b[0m\u001b[0m\n\u001b[0;32m----> 3\u001b[0;31m \u001b[0mdf\u001b[0m \u001b[0;34m=\u001b[0m \u001b[0mdf\u001b[0m\u001b[0;34m.\u001b[0m\u001b[0mread_csv\u001b[0m\u001b[0;34m(\u001b[0m\u001b[0mcsv_filename\u001b[0m\u001b[0;34m,\u001b[0m \u001b[0msep\u001b[0m\u001b[0;34m=\u001b[0m\u001b[0;34m';'\u001b[0m\u001b[0;34m)\u001b[0m\u001b[0;34m\u001b[0m\u001b[0m\n\u001b[0m\u001b[1;32m      4\u001b[0m \u001b[0;34m\u001b[0m\u001b[0m\n",
      "\u001b[0;32m/opt/local/Library/Frameworks/Python.framework/Versions/2.7/lib/python2.7/site-packages/pandas/core/generic.pyc\u001b[0m in \u001b[0;36m__getattr__\u001b[0;34m(self, name)\u001b[0m\n\u001b[1;32m   2148\u001b[0m                 \u001b[0;32mreturn\u001b[0m \u001b[0mself\u001b[0m\u001b[0;34m[\u001b[0m\u001b[0mname\u001b[0m\u001b[0;34m]\u001b[0m\u001b[0;34m\u001b[0m\u001b[0m\n\u001b[1;32m   2149\u001b[0m             raise AttributeError(\"'%s' object has no attribute '%s'\" %\n\u001b[0;32m-> 2150\u001b[0;31m                                  (type(self).__name__, name))\n\u001b[0m\u001b[1;32m   2151\u001b[0m \u001b[0;34m\u001b[0m\u001b[0m\n\u001b[1;32m   2152\u001b[0m     \u001b[0;32mdef\u001b[0m \u001b[0m__setattr__\u001b[0m\u001b[0;34m(\u001b[0m\u001b[0mself\u001b[0m\u001b[0;34m,\u001b[0m \u001b[0mname\u001b[0m\u001b[0;34m,\u001b[0m \u001b[0mvalue\u001b[0m\u001b[0;34m)\u001b[0m\u001b[0;34m:\u001b[0m\u001b[0;34m\u001b[0m\u001b[0m\n",
      "\u001b[0;31mAttributeError\u001b[0m: 'DataFrame' object has no attribute 'read_csv'"
     ]
    }
   ],
   "source": [
    "csv_filename = '2014-04-24.csv'\n",
    "df = pd.DataFrame(columns=['host', 'metric', 'value', 'type', 'units', 'time stamp'])\n",
    "df = df.read_csv(csv_filename, sep=';')\n",
    "\n"
   ]
  },
  {
   "cell_type": "code",
   "execution_count": 6,
   "metadata": {
    "collapsed": false
   },
   "outputs": [
    {
     "data": {
      "text/html": [
       "<div>\n",
       "<table border=\"1\" class=\"dataframe\">\n",
       "  <thead>\n",
       "    <tr style=\"text-align: right;\">\n",
       "      <th></th>\n",
       "      <th>0</th>\n",
       "      <th>1</th>\n",
       "      <th>2</th>\n",
       "      <th>3</th>\n",
       "      <th>4</th>\n",
       "      <th>5</th>\n",
       "    </tr>\n",
       "  </thead>\n",
       "  <tbody>\n",
       "    <tr>\n",
       "      <th>0</th>\n",
       "      <td>oss07</td>\n",
       "      <td>lustre.scratch.ost.obdfilter.OST0017.cache_access</td>\n",
       "      <td>0.00000</td>\n",
       "      <td>float</td>\n",
       "      <td>pages/s</td>\n",
       "      <td>1398382546</td>\n",
       "    </tr>\n",
       "    <tr>\n",
       "      <th>1</th>\n",
       "      <td>oss07</td>\n",
       "      <td>lustre.scratch.ost.obdfilter.OST0015.disconnect</td>\n",
       "      <td>0.00000</td>\n",
       "      <td>float</td>\n",
       "      <td>requests/s</td>\n",
       "      <td>1398382546</td>\n",
       "    </tr>\n",
       "    <tr>\n",
       "      <th>2</th>\n",
       "      <td>oss07</td>\n",
       "      <td>cpu_intr</td>\n",
       "      <td>0.0</td>\n",
       "      <td>float</td>\n",
       "      <td>%</td>\n",
       "      <td>1398382546</td>\n",
       "    </tr>\n",
       "    <tr>\n",
       "      <th>3</th>\n",
       "      <td>oss07</td>\n",
       "      <td>lustre.scratch.ost.obdfilter.hosttotal.cache_a...</td>\n",
       "      <td>0.00000</td>\n",
       "      <td>float</td>\n",
       "      <td>pages/s</td>\n",
       "      <td>1398382546</td>\n",
       "    </tr>\n",
       "    <tr>\n",
       "      <th>4</th>\n",
       "      <td>oss07</td>\n",
       "      <td>lustre.scratch.ost.obdfilter.OST0025.connect</td>\n",
       "      <td>0.00000</td>\n",
       "      <td>float</td>\n",
       "      <td>requests/s</td>\n",
       "      <td>1398382546</td>\n",
       "    </tr>\n",
       "  </tbody>\n",
       "</table>\n",
       "</div>"
      ],
      "text/plain": [
       "       0                                                  1        2      3  \\\n",
       "0  oss07  lustre.scratch.ost.obdfilter.OST0017.cache_access  0.00000  float   \n",
       "1  oss07    lustre.scratch.ost.obdfilter.OST0015.disconnect  0.00000  float   \n",
       "2  oss07                                           cpu_intr      0.0  float   \n",
       "3  oss07  lustre.scratch.ost.obdfilter.hosttotal.cache_a...  0.00000  float   \n",
       "4  oss07       lustre.scratch.ost.obdfilter.OST0025.connect  0.00000  float   \n",
       "\n",
       "            4           5  \n",
       "0     pages/s  1398382546  \n",
       "1  requests/s  1398382546  \n",
       "2           %  1398382546  \n",
       "3     pages/s  1398382546  \n",
       "4  requests/s  1398382546  "
      ]
     },
     "execution_count": 6,
     "metadata": {},
     "output_type": "execute_result"
    }
   ],
   "source": [
    "df.head()"
   ]
  },
  {
   "cell_type": "code",
   "execution_count": null,
   "metadata": {
    "collapsed": true
   },
   "outputs": [],
   "source": []
  }
 ],
 "metadata": {
  "celltoolbar": "Slideshow",
  "kernelspec": {
   "display_name": "Python 2",
   "language": "python",
   "name": "python2"
  },
  "language_info": {
   "codemirror_mode": {
    "name": "ipython",
    "version": 2
   },
   "file_extension": ".py",
   "mimetype": "text/x-python",
   "name": "python",
   "nbconvert_exporter": "python",
   "pygments_lexer": "ipython2",
   "version": "2.7.10"
  }
 },
 "nbformat": 4,
 "nbformat_minor": 0
}
