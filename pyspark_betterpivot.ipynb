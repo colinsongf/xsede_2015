{
 "cells": [
  {
   "cell_type": "code",
   "execution_count": 1,
   "metadata": {
    "collapsed": true
   },
   "outputs": [],
   "source": [
    "from pyspark import SparkConf, SparkContext\n",
    "from collections import OrderedDict\n",
    "from functools import partial"
   ]
  },
  {
   "cell_type": "code",
   "execution_count": null,
   "metadata": {
    "collapsed": true
   },
   "outputs": [],
   "source": [
    "parcsv = sc.textFile(\"/home/milroy/pyspark/2014-04-24.csv\", 12).map(\n",
    "    lambda line: (line.split(';')[0], line.split(';')[1], \n",
    "                  line.split(';')[2], line.split(';')[5]))\n",
    "    \n",
    "columns = parcsv.map(lambda x: str(x[1])).distinct().collect()\n",
    "basedict = {col:0.0 for col in columns}\n",
    "ordered = OrderedDict(sorted(basedict.items(), key=lambda t: t[0]))\n",
    "\n",
    "def cmbPivot(u1, u2):\n",
    "  u1.update(u2)\n",
    "  return u1\n",
    "\n",
    "def seqPivot(u, v):\n",
    "  if not u:\n",
    "      u = {}\n",
    "  u[v[1]] = v[2]\n",
    "  return u\n",
    "\n",
    "def mergedicts(new, canon):\n",
    "  tmp = canon.copy()\n",
    "  tmp.update(new[1])\n",
    "  return new[0], tmp\n",
    "\n",
    "pivot = parcsv.keyBy(lambda row: (row[3], row[0])).aggregateByKey(None, seqPivot, cmbPivot)\n",
    "\n",
    "final = pivot.map(partial(mergedicts, canon=ordered)).take(100)\n"
   ]
  }
 ],
 "metadata": {
  "kernelspec": {
   "display_name": "Python 2",
   "language": "python",
   "name": "python2"
  },
  "language_info": {
   "codemirror_mode": {
    "name": "ipython",
    "version": 2
   },
   "file_extension": ".py",
   "mimetype": "text/x-python",
   "name": "python",
   "nbconvert_exporter": "python",
   "pygments_lexer": "ipython2",
   "version": "2.7.10"
  }
 },
 "nbformat": 4,
 "nbformat_minor": 0
}
