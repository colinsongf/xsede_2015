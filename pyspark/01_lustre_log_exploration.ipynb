{
 "cells": [
  {
   "cell_type": "markdown",
   "metadata": {},
   "source": [
    "# Example 1: Parallel Log Parsing with Map and Filter"
   ]
  },
  {
   "cell_type": "markdown",
   "metadata": {},
   "source": [
    "## Step 1: Data ingest and parsing"
   ]
  },
  {
   "cell_type": "code",
   "execution_count": 5,
   "metadata": {
    "collapsed": true
   },
   "outputs": [],
   "source": [
    "from pyspark import SparkConf, SparkContext\n",
    "import re"
   ]
  },
  {
   "cell_type": "markdown",
   "metadata": {},
   "source": [
    "This dataset is a debug dump from a Lustre filesystem.  Typically these events occur due to code bugs (LBUG), heavy load, hardware problems, or misbehaving user application IO.\n",
    "\n",
    "Let's analyze some of the log structure to determine what may have caused this debug dump."
   ]
  },
  {
   "cell_type": "code",
   "execution_count": 6,
   "metadata": {
    "collapsed": false
   },
   "outputs": [
    {
     "data": {
      "text/plain": [
       "<pyspark.context.SparkContext at 0x7fb1502417d0>"
      ]
     },
     "execution_count": 6,
     "metadata": {},
     "output_type": "execute_result"
    }
   ],
   "source": [
    "sc"
   ]
  },
  {
   "cell_type": "code",
   "execution_count": 7,
   "metadata": {
    "collapsed": true
   },
   "outputs": [],
   "source": [
    "partitions = 64\n",
    "parlog = sc.textFile(\"/home/milroy/pyspark/lustre_debug.out\", partitions)"
   ]
  },
  {
   "cell_type": "markdown",
   "metadata": {},
   "source": [
    "Let's take a look at the first five lines of the debug log.  This log is colon-delimited, and roughly corresponds to the following information: \n",
    "\n",
    "0-1 describe subsystem ID\n",
    "2\n",
    "3 timestamp\n",
    "4-6 PIDs\n",
    "7 relevant code module\n",
    "8 code line\n",
    "9 function and message"
   ]
  },
  {
   "cell_type": "code",
   "execution_count": 8,
   "metadata": {
    "collapsed": true
   },
   "outputs": [
    {
     "data": {
      "text/plain": [
       "[u'00010000:00080000:2.1F:1433384402.983324:0:0:0:(ldlm_lib.c:2008:target_recovery_expired()) scratch-MDT0000: recovery timed out; 2 clients are still in recovery after 300s (136 clients connected)',\n",
       " u'00000100:00080000:22.0:1433439189.202419:0:28364:0:(service.c:789:ptlrpc_update_export_timer()) updating export e0b948f3-2c66-de79-82f6-858c54bcf73f at 1433439189 exp ffff8805feae1000',\n",
       " u'00000100:00080000:22.0:1433439189.205134:0:28364:0:(service.c:789:ptlrpc_update_export_timer()) updating export 1915dbbb-3d37-10c8-c161-d533b76bcbcb at 1433439189 exp ffff8805cf6dec00',\n",
       " u'00000100:00080000:22.0:1433439189.208987:0:28364:0:(service.c:789:ptlrpc_update_export_timer()) updating export 37147439-d85e-5002-0501-0315cbd3a063 at 1433439189 exp ffff8805cf5f7800',\n",
       " u'00000100:00080000:22.0:1433439189.213463:0:28364:0:(service.c:789:ptlrpc_update_export_timer()) updating export ed7c79f9-b42b-ce30-ba52-38106df6aaed at 1433439189 exp ffff8805b6a0dc00',\n",
       " u'00000100:00080000:22.0:1433439189.215960:0:28364:0:(service.c:789:ptlrpc_update_export_timer()) updating export 352aa199-a505-6fb6-96f6-bb641b17474f at 1433439189 exp ffff8802f1373800',\n",
       " u'00000100:00080000:22.0:1433439189.232961:0:28364:0:(service.c:789:ptlrpc_update_export_timer()) updating export 9bd403bb-4d2e-7d02-1c22-2c809edefa3d at 1433439189 exp ffff8802f2b85000',\n",
       " u'00000100:00080000:22.0:1433439189.303157:0:28364:0:(service.c:789:ptlrpc_update_export_timer()) updating export 2d28e2ea-bedc-ad07-b49a-6f20c20f841b at 1433439189 exp ffff8805b4d34000',\n",
       " u'00000100:00080000:22.0:1433439189.306565:0:28364:0:(service.c:789:ptlrpc_update_export_timer()) updating export 7207a313-9b1d-d5ee-2100-a3ca8c509e95 at 1433439189 exp ffff8805bb752800',\n",
       " u'00000100:00080000:22.0:1433439189.321356:0:28364:0:(service.c:789:ptlrpc_update_export_timer()) updating export 63d06ebf-337a-7077-3d09-00074c38d802 at 1433439189 exp ffff8805c7210c00']"
      ]
     },
     "execution_count": 8,
     "metadata": {},
     "output_type": "execute_result"
    }
   ],
   "source": [
    "parlog.take(5)"
   ]
  },
  {
   "cell_type": "markdown",
   "metadata": {},
   "source": [
    "Now let's split each line of the RDD into lowercase \"words\".\n",
    "\n",
    "Lambda functions are ubiquitous in Spark, I presume due to the functional programming underpinnings of Scala.  They act on each partition in parallel, and operate on each line."
   ]
  },
  {
   "cell_type": "code",
   "execution_count": 66,
   "metadata": {
    "collapsed": false
   },
   "outputs": [],
   "source": [
    "words = parlog.map(lambda line: re.split('\\W+', line.lower().strip()))"
   ]
  },
  {
   "cell_type": "markdown",
   "metadata": {},
   "source": [
    "Notice that this map returns immediately; no actions have been taken- the DAG has been updated to prepare for transformations.  I like to think of this as analogous to a page fault, but applying to a Directed Acyclic Graph."
   ]
  },
  {
   "cell_type": "code",
   "execution_count": 67,
   "metadata": {
    "collapsed": true
   },
   "outputs": [
    {
     "data": {
      "text/plain": [
       "[[u'00010000',\n",
       "  u'00080000',\n",
       "  u'2',\n",
       "  u'1f',\n",
       "  u'1433384402',\n",
       "  u'983324',\n",
       "  u'0',\n",
       "  u'0',\n",
       "  u'0',\n",
       "  u'ldlm_lib',\n",
       "  u'c',\n",
       "  u'2008',\n",
       "  u'target_recovery_expired',\n",
       "  u'scratch',\n",
       "  u'mdt0000',\n",
       "  u'recovery',\n",
       "  u'timed',\n",
       "  u'out',\n",
       "  u'2',\n",
       "  u'clients',\n",
       "  u'are',\n",
       "  u'still',\n",
       "  u'in',\n",
       "  u'recovery',\n",
       "  u'after',\n",
       "  u'300s',\n",
       "  u'136',\n",
       "  u'clients',\n",
       "  u'connected',\n",
       "  u''],\n",
       " [u'00000100',\n",
       "  u'00080000',\n",
       "  u'22',\n",
       "  u'0',\n",
       "  u'1433439189',\n",
       "  u'202419',\n",
       "  u'0',\n",
       "  u'28364',\n",
       "  u'0',\n",
       "  u'service',\n",
       "  u'c',\n",
       "  u'789',\n",
       "  u'ptlrpc_update_export_timer',\n",
       "  u'updating',\n",
       "  u'export',\n",
       "  u'e0b948f3',\n",
       "  u'2c66',\n",
       "  u'de79',\n",
       "  u'82f6',\n",
       "  u'858c54bcf73f',\n",
       "  u'at',\n",
       "  u'1433439189',\n",
       "  u'exp',\n",
       "  u'ffff8805feae1000'],\n",
       " [u'00000100',\n",
       "  u'00080000',\n",
       "  u'22',\n",
       "  u'0',\n",
       "  u'1433439189',\n",
       "  u'205134',\n",
       "  u'0',\n",
       "  u'28364',\n",
       "  u'0',\n",
       "  u'service',\n",
       "  u'c',\n",
       "  u'789',\n",
       "  u'ptlrpc_update_export_timer',\n",
       "  u'updating',\n",
       "  u'export',\n",
       "  u'1915dbbb',\n",
       "  u'3d37',\n",
       "  u'10c8',\n",
       "  u'c161',\n",
       "  u'd533b76bcbcb',\n",
       "  u'at',\n",
       "  u'1433439189',\n",
       "  u'exp',\n",
       "  u'ffff8805cf6dec00'],\n",
       " [u'00000100',\n",
       "  u'00080000',\n",
       "  u'22',\n",
       "  u'0',\n",
       "  u'1433439189',\n",
       "  u'208987',\n",
       "  u'0',\n",
       "  u'28364',\n",
       "  u'0',\n",
       "  u'service',\n",
       "  u'c',\n",
       "  u'789',\n",
       "  u'ptlrpc_update_export_timer',\n",
       "  u'updating',\n",
       "  u'export',\n",
       "  u'37147439',\n",
       "  u'd85e',\n",
       "  u'5002',\n",
       "  u'0501',\n",
       "  u'0315cbd3a063',\n",
       "  u'at',\n",
       "  u'1433439189',\n",
       "  u'exp',\n",
       "  u'ffff8805cf5f7800'],\n",
       " [u'00000100',\n",
       "  u'00080000',\n",
       "  u'22',\n",
       "  u'0',\n",
       "  u'1433439189',\n",
       "  u'213463',\n",
       "  u'0',\n",
       "  u'28364',\n",
       "  u'0',\n",
       "  u'service',\n",
       "  u'c',\n",
       "  u'789',\n",
       "  u'ptlrpc_update_export_timer',\n",
       "  u'updating',\n",
       "  u'export',\n",
       "  u'ed7c79f9',\n",
       "  u'b42b',\n",
       "  u'ce30',\n",
       "  u'ba52',\n",
       "  u'38106df6aaed',\n",
       "  u'at',\n",
       "  u'1433439189',\n",
       "  u'exp',\n",
       "  u'ffff8805b6a0dc00'],\n",
       " [u'00000100',\n",
       "  u'00080000',\n",
       "  u'22',\n",
       "  u'0',\n",
       "  u'1433439189',\n",
       "  u'215960',\n",
       "  u'0',\n",
       "  u'28364',\n",
       "  u'0',\n",
       "  u'service',\n",
       "  u'c',\n",
       "  u'789',\n",
       "  u'ptlrpc_update_export_timer',\n",
       "  u'updating',\n",
       "  u'export',\n",
       "  u'352aa199',\n",
       "  u'a505',\n",
       "  u'6fb6',\n",
       "  u'96f6',\n",
       "  u'bb641b17474f',\n",
       "  u'at',\n",
       "  u'1433439189',\n",
       "  u'exp',\n",
       "  u'ffff8802f1373800'],\n",
       " [u'00000100',\n",
       "  u'00080000',\n",
       "  u'22',\n",
       "  u'0',\n",
       "  u'1433439189',\n",
       "  u'232961',\n",
       "  u'0',\n",
       "  u'28364',\n",
       "  u'0',\n",
       "  u'service',\n",
       "  u'c',\n",
       "  u'789',\n",
       "  u'ptlrpc_update_export_timer',\n",
       "  u'updating',\n",
       "  u'export',\n",
       "  u'9bd403bb',\n",
       "  u'4d2e',\n",
       "  u'7d02',\n",
       "  u'1c22',\n",
       "  u'2c809edefa3d',\n",
       "  u'at',\n",
       "  u'1433439189',\n",
       "  u'exp',\n",
       "  u'ffff8802f2b85000'],\n",
       " [u'00000100',\n",
       "  u'00080000',\n",
       "  u'22',\n",
       "  u'0',\n",
       "  u'1433439189',\n",
       "  u'303157',\n",
       "  u'0',\n",
       "  u'28364',\n",
       "  u'0',\n",
       "  u'service',\n",
       "  u'c',\n",
       "  u'789',\n",
       "  u'ptlrpc_update_export_timer',\n",
       "  u'updating',\n",
       "  u'export',\n",
       "  u'2d28e2ea',\n",
       "  u'bedc',\n",
       "  u'ad07',\n",
       "  u'b49a',\n",
       "  u'6f20c20f841b',\n",
       "  u'at',\n",
       "  u'1433439189',\n",
       "  u'exp',\n",
       "  u'ffff8805b4d34000'],\n",
       " [u'00000100',\n",
       "  u'00080000',\n",
       "  u'22',\n",
       "  u'0',\n",
       "  u'1433439189',\n",
       "  u'306565',\n",
       "  u'0',\n",
       "  u'28364',\n",
       "  u'0',\n",
       "  u'service',\n",
       "  u'c',\n",
       "  u'789',\n",
       "  u'ptlrpc_update_export_timer',\n",
       "  u'updating',\n",
       "  u'export',\n",
       "  u'7207a313',\n",
       "  u'9b1d',\n",
       "  u'd5ee',\n",
       "  u'2100',\n",
       "  u'a3ca8c509e95',\n",
       "  u'at',\n",
       "  u'1433439189',\n",
       "  u'exp',\n",
       "  u'ffff8805bb752800'],\n",
       " [u'00000100',\n",
       "  u'00080000',\n",
       "  u'22',\n",
       "  u'0',\n",
       "  u'1433439189',\n",
       "  u'321356',\n",
       "  u'0',\n",
       "  u'28364',\n",
       "  u'0',\n",
       "  u'service',\n",
       "  u'c',\n",
       "  u'789',\n",
       "  u'ptlrpc_update_export_timer',\n",
       "  u'updating',\n",
       "  u'export',\n",
       "  u'63d06ebf',\n",
       "  u'337a',\n",
       "  u'7077',\n",
       "  u'3d09',\n",
       "  u'00074c38d802',\n",
       "  u'at',\n",
       "  u'1433439189',\n",
       "  u'exp',\n",
       "  u'ffff8805c7210c00']]"
      ]
     },
     "execution_count": 67,
     "metadata": {},
     "output_type": "execute_result"
    }
   ],
   "source": [
    "words.take(2)"
   ]
  },
  {
   "cell_type": "markdown",
   "metadata": {},
   "source": [
    "## Part 2: Counting Occurences"
   ]
  },
  {
   "cell_type": "markdown",
   "metadata": {},
   "source": [
    "My experience with Lustre affords me (some) insight into this- I know the system has been susceptible to MDS overloading due to applications creating tons of small files, or issuing lots of MDS RPCs.  I want to look for all lines that contain mfd changes.\n",
    "\n",
    "Let's apply a filter to this RDD.  Let's create a new RDD that only contains lines with mfs changes."
   ]
  },
  {
   "cell_type": "code",
   "execution_count": 34,
   "metadata": {
    "collapsed": false
   },
   "outputs": [],
   "source": [
    "mfds = words.filter(lambda x: 'mfd' and 'change' in x)"
   ]
  },
  {
   "cell_type": "markdown",
   "metadata": {},
   "source": [
    "Did it work?"
   ]
  },
  {
   "cell_type": "code",
   "execution_count": 35,
   "metadata": {
    "collapsed": true
   },
   "outputs": [
    {
     "data": {
      "text/plain": [
       "[[u'00000004',\n",
       "  u'00080000',\n",
       "  u'22',\n",
       "  u'0',\n",
       "  u'1433439244',\n",
       "  u'706760',\n",
       "  u'0',\n",
       "  u'1563',\n",
       "  u'0',\n",
       "  u'mdt_open',\n",
       "  u'c',\n",
       "  u'646',\n",
       "  u'mdt_mfd_set_mode',\n",
       "  u'change',\n",
       "  u'mfd',\n",
       "  u'ffff88056d872d40',\n",
       "  u'mode',\n",
       "  u'0x0',\n",
       "  u'0x42'],\n",
       " [u'00000004',\n",
       "  u'00080000',\n",
       "  u'22',\n",
       "  u'0',\n",
       "  u'1433439244',\n",
       "  u'734649',\n",
       "  u'0',\n",
       "  u'13592',\n",
       "  u'0',\n",
       "  u'mdt_open',\n",
       "  u'c',\n",
       "  u'646',\n",
       "  u'mdt_mfd_set_mode',\n",
       "  u'change',\n",
       "  u'mfd',\n",
       "  u'ffff8805698b3240',\n",
       "  u'mode',\n",
       "  u'0x0',\n",
       "  u'0x42'],\n",
       " [u'00000004',\n",
       "  u'00080000',\n",
       "  u'22',\n",
       "  u'0',\n",
       "  u'1433439244',\n",
       "  u'774632',\n",
       "  u'0',\n",
       "  u'1444',\n",
       "  u'0',\n",
       "  u'mdt_open',\n",
       "  u'c',\n",
       "  u'646',\n",
       "  u'mdt_mfd_set_mode',\n",
       "  u'change',\n",
       "  u'mfd',\n",
       "  u'ffff880566f0bac0',\n",
       "  u'mode',\n",
       "  u'0x0',\n",
       "  u'0x42'],\n",
       " [u'00000004',\n",
       "  u'00080000',\n",
       "  u'22',\n",
       "  u'0',\n",
       "  u'1433439244',\n",
       "  u'781809',\n",
       "  u'0',\n",
       "  u'1565',\n",
       "  u'0',\n",
       "  u'mdt_open',\n",
       "  u'c',\n",
       "  u'646',\n",
       "  u'mdt_mfd_set_mode',\n",
       "  u'change',\n",
       "  u'mfd',\n",
       "  u'ffff880570df6ec0',\n",
       "  u'mode',\n",
       "  u'0x0',\n",
       "  u'0x42'],\n",
       " [u'00000004',\n",
       "  u'00080000',\n",
       "  u'22',\n",
       "  u'0',\n",
       "  u'1433439244',\n",
       "  u'782961',\n",
       "  u'0',\n",
       "  u'26845',\n",
       "  u'0',\n",
       "  u'mdt_open',\n",
       "  u'c',\n",
       "  u'646',\n",
       "  u'mdt_mfd_set_mode',\n",
       "  u'change',\n",
       "  u'mfd',\n",
       "  u'ffff880567609a40',\n",
       "  u'mode',\n",
       "  u'0x0',\n",
       "  u'0x42'],\n",
       " [u'00000004',\n",
       "  u'00080000',\n",
       "  u'22',\n",
       "  u'0',\n",
       "  u'1433439244',\n",
       "  u'783662',\n",
       "  u'0',\n",
       "  u'1459',\n",
       "  u'0',\n",
       "  u'mdt_open',\n",
       "  u'c',\n",
       "  u'646',\n",
       "  u'mdt_mfd_set_mode',\n",
       "  u'change',\n",
       "  u'mfd',\n",
       "  u'ffff880566a6f1c0',\n",
       "  u'mode',\n",
       "  u'0x0',\n",
       "  u'0x42'],\n",
       " [u'00000004',\n",
       "  u'00080000',\n",
       "  u'22',\n",
       "  u'0',\n",
       "  u'1433439244',\n",
       "  u'809819',\n",
       "  u'0',\n",
       "  u'1565',\n",
       "  u'0',\n",
       "  u'mdt_open',\n",
       "  u'c',\n",
       "  u'646',\n",
       "  u'mdt_mfd_set_mode',\n",
       "  u'change',\n",
       "  u'mfd',\n",
       "  u'ffff880566a6fc40',\n",
       "  u'mode',\n",
       "  u'0x0',\n",
       "  u'0x42'],\n",
       " [u'00000004',\n",
       "  u'00080000',\n",
       "  u'22',\n",
       "  u'0',\n",
       "  u'1433439244',\n",
       "  u'810423',\n",
       "  u'0',\n",
       "  u'26845',\n",
       "  u'0',\n",
       "  u'mdt_open',\n",
       "  u'c',\n",
       "  u'646',\n",
       "  u'mdt_mfd_set_mode',\n",
       "  u'change',\n",
       "  u'mfd',\n",
       "  u'ffff880566a6f440',\n",
       "  u'mode',\n",
       "  u'0x0',\n",
       "  u'0x42'],\n",
       " [u'00000004',\n",
       "  u'00080000',\n",
       "  u'22',\n",
       "  u'0',\n",
       "  u'1433439244',\n",
       "  u'833101',\n",
       "  u'0',\n",
       "  u'30166',\n",
       "  u'0',\n",
       "  u'mdt_open',\n",
       "  u'c',\n",
       "  u'646',\n",
       "  u'mdt_mfd_set_mode',\n",
       "  u'change',\n",
       "  u'mfd',\n",
       "  u'ffff880595eb6cc0',\n",
       "  u'mode',\n",
       "  u'0x0',\n",
       "  u'0x42'],\n",
       " [u'00000004',\n",
       "  u'00080000',\n",
       "  u'22',\n",
       "  u'0',\n",
       "  u'1433439244',\n",
       "  u'833579',\n",
       "  u'0',\n",
       "  u'18760',\n",
       "  u'0',\n",
       "  u'mdt_open',\n",
       "  u'c',\n",
       "  u'646',\n",
       "  u'mdt_mfd_set_mode',\n",
       "  u'change',\n",
       "  u'mfd',\n",
       "  u'ffff880567c7e740',\n",
       "  u'mode',\n",
       "  u'0x0',\n",
       "  u'0x42']]"
      ]
     },
     "execution_count": 35,
     "metadata": {},
     "output_type": "execute_result"
    }
   ],
   "source": [
    "mfds.take(2)"
   ]
  },
  {
   "cell_type": "markdown",
   "metadata": {},
   "source": [
    "Now we issue an action to the RDD: the DAG performs the lazily executed functions.  In this case we count the number of lines in the mfds RDD."
   ]
  },
  {
   "cell_type": "code",
   "execution_count": 42,
   "metadata": {
    "collapsed": false
   },
   "outputs": [
    {
     "data": {
      "text/plain": [
       "285051"
      ]
     },
     "execution_count": 42,
     "metadata": {},
     "output_type": "execute_result"
    }
   ],
   "source": [
    "mfds.count()"
   ]
  },
  {
   "cell_type": "markdown",
   "metadata": {},
   "source": [
    "And as a percent of the overall file?"
   ]
  },
  {
   "cell_type": "code",
   "execution_count": null,
   "metadata": {
    "collapsed": true
   },
   "outputs": [],
   "source": [
    "'{0:0.2f}%'.format((mfds.count()/float(parlog.count()))*100)"
   ]
  },
  {
   "cell_type": "markdown",
   "metadata": {},
   "source": [
    "Now let's determine the effect of the flatMap: this behaves like map, but does not return a list for each line.  Rather, it aggregates (flattens) the output into a single list."
   ]
  },
  {
   "cell_type": "code",
   "execution_count": 68,
   "metadata": {
    "collapsed": true
   },
   "outputs": [],
   "source": [
    "flatwords = parlog.flatMap(lambda line: re.split('\\W+', line.lower().strip()))"
   ]
  },
  {
   "cell_type": "markdown",
   "metadata": {},
   "source": [
    "Now filter out \"words\" longer than 2 characters."
   ]
  },
  {
   "cell_type": "code",
   "execution_count": 71,
   "metadata": {
    "collapsed": false
   },
   "outputs": [],
   "source": [
    "longwords = flatwords.filter(lambda x: len(x) > 2 )"
   ]
  },
  {
   "cell_type": "code",
   "execution_count": 72,
   "metadata": {
    "collapsed": true
   },
   "outputs": [
    {
     "data": {
      "text/plain": [
       "[u'00010000',\n",
       " u'00080000',\n",
       " u'1433384402',\n",
       " u'983324',\n",
       " u'ldlm_lib',\n",
       " u'2008',\n",
       " u'target_recovery_expired',\n",
       " u'scratch',\n",
       " u'mdt0000',\n",
       " u'recovery']"
      ]
     },
     "execution_count": 72,
     "metadata": {},
     "output_type": "execute_result"
    }
   ],
   "source": [
    "longwords.take(10)"
   ]
  },
  {
   "cell_type": "markdown",
   "metadata": {},
   "source": [
    "To sort words by number of occurences we map each word of each line to a tuple: itself and 1.  We will perform a reduction on these tuples to get counts."
   ]
  },
  {
   "cell_type": "code",
   "execution_count": 73,
   "metadata": {
    "collapsed": true
   },
   "outputs": [],
   "source": [
    "longwords = longwords.map(lambda word: (word, 1))"
   ]
  },
  {
   "cell_type": "markdown",
   "metadata": {},
   "source": [
    "We utilize reduceByKey: this operation performs a function on identical keys.  By default this will be the first element of the tuple.  Since this will be the word, the behavior is desired.\n",
    "\n",
    "Note that reduce operations are accumulators and must be associative."
   ]
  },
  {
   "cell_type": "code",
   "execution_count": 74,
   "metadata": {
    "collapsed": true
   },
   "outputs": [],
   "source": [
    "longcount = longwords.reduceByKey(lambda a, b: a + b)"
   ]
  },
  {
   "cell_type": "code",
   "execution_count": 75,
   "metadata": {
    "collapsed": false
   },
   "outputs": [
    {
     "data": {
      "text/plain": [
       "[(u'378466', 2),\n",
       " (u'145204', 1),\n",
       " (u'988531', 3),\n",
       " (u'265971', 1),\n",
       " (u'611459', 1),\n",
       " (u'874193', 1),\n",
       " (u'708674099127', 2),\n",
       " (u'708674808631', 1),\n",
       " (u'012489', 1),\n",
       " (u'ffff8805846873c0', 2)]"
      ]
     },
     "execution_count": 75,
     "metadata": {},
     "output_type": "execute_result"
    }
   ],
   "source": [
    "longcount.take(10)"
   ]
  },
  {
   "cell_type": "markdown",
   "metadata": {},
   "source": [
    "We swap the order of the tuple's contents to sort by the number rather than words.  The argument \"False\" passed to sortByKey instructs it to sort descending."
   ]
  },
  {
   "cell_type": "code",
   "execution_count": 76,
   "metadata": {
    "collapsed": true
   },
   "outputs": [],
   "source": [
    "longwords = longcount.map(lambda x: (x[1], x[0])).sortByKey(False)"
   ]
  },
  {
   "cell_type": "code",
   "execution_count": 77,
   "metadata": {
    "collapsed": false
   },
   "outputs": [
    {
     "data": {
      "text/plain": [
       "[(697191, u'00080000'),\n",
       " (464831, u'00000004'),\n",
       " (314189, u'0x0'),\n",
       " (285058, u'mdt_open'),\n",
       " (285051, u'mdt_mfd_set_mode'),\n",
       " (285051, u'mfd'),\n",
       " (285051, u'change'),\n",
       " (285051, u'mode'),\n",
       " (285051, u'646'),\n",
       " (223284, u'transno'),\n",
       " (155387, u'00000100'),\n",
       " (155375, u'exp'),\n",
       " (155367, u'export'),\n",
       " (155358, u'service'),\n",
       " (155357, u'ptlrpc_update_export_timer'),\n",
       " (155353, u'789'),\n",
       " (155353, u'updating'),\n",
       " (154458, u'reply'),\n",
       " (150641, u'state'),\n",
       " (150641, u'request')]"
      ]
     },
     "execution_count": 77,
     "metadata": {},
     "output_type": "execute_result"
    }
   ],
   "source": [
    "longwords.take(20)"
   ]
  }
 ],
 "metadata": {
  "kernelspec": {
   "display_name": "Python 2",
   "language": "python",
   "name": "python2"
  },
  "language_info": {
   "codemirror_mode": {
    "name": "ipython",
    "version": 2
   },
   "file_extension": ".py",
   "mimetype": "text/x-python",
   "name": "python",
   "nbconvert_exporter": "python",
   "pygments_lexer": "ipython2",
   "version": "2.7.10"
  }
 },
 "nbformat": 4,
 "nbformat_minor": 0
}
