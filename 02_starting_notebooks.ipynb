{
 "cells": [
  {
   "cell_type": "markdown",
   "metadata": {
    "slideshow": {
     "slide_type": "slide"
    }
   },
   "source": [
    "<img src='https://www.rc.colorado.edu/sites/all/themes/research/logo.png' style=\"height:75px\">"
   ]
  },
  {
   "cell_type": "markdown",
   "metadata": {},
   "source": [
    "# Outline\n",
    "\n",
    "- Starting a notebook\n",
    "    - profile\n",
    "    - common options\n",
    "    - remote machine\n",
    "- Securing remote notebooks\n",
    "- Running notebooks on compute nodes"
   ]
  },
  {
   "cell_type": "markdown",
   "metadata": {
    "slideshow": {
     "slide_type": "slide"
    }
   },
   "source": [
    "# Starting and Running Python notebooks\n"
   ]
  },
  {
   "cell_type": "markdown",
   "metadata": {},
   "source": [
    "ipython notebook --no-mathjax"
   ]
  },
  {
   "cell_type": "markdown",
   "metadata": {
    "slideshow": {
     "slide_type": "slide"
    }
   },
   "source": [
    "## Running a notebook on a remote host, e.g. login node of a remote cluster\n"
   ]
  },
  {
   "cell_type": "markdown",
   "metadata": {},
   "source": [
    "### Options relevant for remote notebooks"
   ]
  },
  {
   "cell_type": "markdown",
   "metadata": {},
   "source": [
    "* **--no-browser**: don't open the notebook in a browser after startup \n",
    "* **--ip**: The IP address the notebook server will listen on\n",
    "* **--port**: the port the notebook server will listen on\n"
   ]
  },
  {
   "cell_type": "markdown",
   "metadata": {},
   "source": [
    "### Starting the notebook on the login node\n",
    "\n",
    "```\n",
    "$ ssh thauser@gordon.sdsc.xsede.org\n",
    "gordon$ hostname\n",
    "   gordon-ln3.sdsc.edu\n",
    "gordon$ ipython notebook --no-browser --port=9088 --ip=*\n",
    "```\n",
    "\n",
    "### Connecting to the notebook server\n",
    "\n",
    "http://gordon-ln3.sdsc.edu:9088"
   ]
  },
  {
   "cell_type": "markdown",
   "metadata": {
    "slideshow": {
     "slide_type": "slide"
    }
   },
   "source": [
    "## Securing the remote notebook\n",
    "\n",
    "There are several steps to secure the notebook server on a remote machine (see http://ipython.org/ipython-doc/dev/notebook/public_server.html)\n",
    "\n",
    "1. Create a custom notebook profile\n",
    "2. Create a self signed certificate to access the remote notebook with https\n",
    "3. Create a simple password\n",
    "4. Edit the notebook profile to specify the security settings\n",
    "\n",
    "*There is a bug in the combination of Safari and tornado that may not allow you to run the remote notebook properly: Use a different browser*\n"
   ]
  },
  {
   "cell_type": "markdown",
   "metadata": {
    "slideshow": {
     "slide_type": "subslide"
    }
   },
   "source": [
    "### 1. Creating a notebook profile\n",
    "\n",
    "A profile allows you to manage different configurations for your notebook\n",
    "\n",
    "```\n",
    "gordon$ ipython profile create nbserver\n",
    "```\n",
    "\n",
    "This will create *.ipython/profile_nbserver* directory\n"
   ]
  },
  {
   "cell_type": "code",
   "execution_count": 4,
   "metadata": {
    "collapsed": false
   },
   "outputs": [
    {
     "name": "stdout",
     "output_type": "stream",
     "text": [
      "total 144\r\n",
      "drwxr-xr-x 8 thauser cob113  4096 Jul 14 03:25 .\r\n",
      "drwxr-xr-x 6 thauser cob113  4096 Jul 13 17:42 ..\r\n",
      "drwxr-xr-x 2 thauser cob113  4096 Jul 13 17:58 db\r\n",
      "-rw-r--r-- 1 thauser cob113  7168 Jul 14 03:25 history.sqlite\r\n",
      "-rw-r--r-- 1 thauser cob113 19915 Jul 13 17:39 ipython_config.py\r\n",
      "-rw-r--r-- 1 thauser cob113 31841 Jul 13 17:39 ipython_nbconvert_config.py\r\n",
      "-rw-r--r-- 1 thauser cob113 24504 Jul 13 17:50 ipython_notebook_config.py\r\n",
      "-rw-r--r-- 1 thauser cob113 24679 Jul 13 17:39 ipython_qtconsole_config.py\r\n",
      "drwxr-xr-x 2 thauser cob113  4096 Jul 13 17:39 log\r\n",
      "drwx------ 2 thauser cob113  4096 Jul 13 17:39 pid\r\n",
      "drwx------ 2 thauser cob113  4096 Jul 14 03:25 security\r\n",
      "drwxr-xr-x 2 thauser cob113  4096 Jul 13 17:39 startup\r\n",
      "drwxr-xr-x 3 thauser cob113  4096 Jul 13 17:39 static\r\n"
     ]
    }
   ],
   "source": [
    "!ssh thauser@gordon.sdsc.xsede.org 'cd .ipython/profile_nbserver; ls -al'"
   ]
  },
  {
   "cell_type": "markdown",
   "metadata": {
    "slideshow": {
     "slide_type": "subslide"
    }
   },
   "source": [
    "### 2. Create a self-signed certificate\n",
    "\n",
    "```\n",
    "gordon$ openssl req -x509 -nodes -days 365 -newkey rsa:1024 -keyout mycert.pem -out mycert.pem\n",
    "```\n",
    "\n",
    "### 3. Create a password hash\n",
    "\n",
    "In ipython execute"
   ]
  },
  {
   "cell_type": "code",
   "execution_count": 6,
   "metadata": {
    "collapsed": false
   },
   "outputs": [
    {
     "data": {
      "text/plain": [
       "'sha1:767cf154e39a:b4f204a629dc83c06d8d799505941372ee0347df'"
      ]
     },
     "execution_count": 6,
     "metadata": {},
     "output_type": "execute_result"
    }
   ],
   "source": [
    "from IPython.lib import passwd\n",
    "\n",
    "passwd('test password')"
   ]
  },
  {
   "cell_type": "markdown",
   "metadata": {},
   "source": [
    "**Not recommended: Use interactive ipython and then just *passwd()* **"
   ]
  },
  {
   "cell_type": "markdown",
   "metadata": {
    "slideshow": {
     "slide_type": "subslide"
    }
   },
   "source": [
    "### 4. Edit the configuration for your profile\n",
    "\n",
    "```\n",
    "vim .ipython/profile_nbserver/ipython_notebook_config.py\n",
    "```\n"
   ]
  },
  {
   "cell_type": "code",
   "execution_count": 10,
   "metadata": {
    "collapsed": false
   },
   "outputs": [
    {
     "name": "stdout",
     "output_type": "stream",
     "text": [
      "# Configuration file for ipython-notebook.\r\n",
      "\r\n",
      "c = get_config()\r\n",
      "# Kernel config\r\n",
      "c.IPKernelApp.pylab = 'inline'  # if you want plotting support always\r\n",
      "# Notebook config\r\n",
      "c.NotebookApp.certfile = u'/home/thauser/.ipython/mycert.pem'\r\n",
      "c.NotebookApp.ip = '*'\r\n",
      "c.NotebookApp.open_browser = False\r\n",
      "c.NotebookApp.password = u'sha1:4723172689ea:003c3bcd8ba0bf4b8b4d3b0647a2be7bf7bd7216'\r\n",
      "c.NotebookApp.port = 11111\r\n",
      "\r\n"
     ]
    }
   ],
   "source": [
    "!ssh thauser@gordon.sdsc.xsede.org 'head -n 12 .ipython/profile_nbserver/ipython_notebook_config.py'"
   ]
  },
  {
   "cell_type": "markdown",
   "metadata": {
    "slideshow": {
     "slide_type": "slide"
    }
   },
   "source": [
    "## Running the secured remote notebook\n",
    "\n",
    "```\n",
    "ipython notebook --profile=nbserver\n",
    "```\n",
    "\n",
    "connect to\n",
    "\n",
    "https://gordon-ln3.sdsc.edu:11111\n",
    "\n",
    "you need to enter your password"
   ]
  },
  {
   "cell_type": "markdown",
   "metadata": {
    "slideshow": {
     "slide_type": "slide"
    }
   },
   "source": [
    "## Running the notebook in an interactive job on Gordon\n",
    "\n",
    "1. Start your interactive job\n",
    "```\n",
    "gordon$ qsub -I -q normal -l nodes=1:ppn=16:native:noflash,walltime=10:00\n",
    "```\n",
    "\n",
    "2. Start your notebook\n",
    "```\n",
    "gordon$ hostname\n",
    "gordon$ ipython notebook --profile=nbserver\n",
    "```\n",
    "3. Connect to it\n",
    "\n",
    "```\n",
    "https://gcn-19-14.sdsc.edu:11111\n",
    "```"
   ]
  },
  {
   "cell_type": "markdown",
   "metadata": {
    "slideshow": {
     "slide_type": "slide"
    }
   },
   "source": [
    "## Port forwarding using ssh\n",
    "\n",
    "On some machines compute nodes maybe not accessible from the outside\n",
    "\n",
    "### ssh port forwarding\n",
    "\n",
    "On your local machine:\n",
    "```\n",
    "#ssh -L localport:nodename:remote_port -f -N gordon.sdsc.xsede.org\n",
    "\n",
    "$ ssh -L 8088:gcn-4-68:9088 -f -N gordon sdsc.xsede.org\n",
    "```\n",
    "\n",
    "open your localbrowser at https://localhost:8088\n"
   ]
  },
  {
   "cell_type": "markdown",
   "metadata": {
    "slideshow": {
     "slide_type": "slide"
    }
   },
   "source": [
    "## Using SAGA to run a job on a remote node of a cluster\n",
    "\n",
    "A light-weight access layer for distributed computing infrastructure\n",
    "\n",
    "http://saga-project.github.io/saga-python/ \n",
    "\n",
    "### Install on your local machine\n",
    "\n",
    "```\n",
    "$ pip install saga-python\n",
    "```\n",
    "\n",
    "\n",
    "### Create a saga script, e.g"
   ]
  },
  {
   "cell_type": "code",
   "execution_count": null,
   "metadata": {
    "collapsed": false
   },
   "outputs": [],
   "source": [
    "import sys\n",
    "import time\n",
    "import saga\n",
    "import tunnel\n",
    "\n",
    "# Adapted from the saga example\n",
    "# Your ssh identity on the remote machine.\n",
    "ctx = saga.Context(\"ssh\")\n",
    "ctx.user_id = 'thauser'\n",
    "\n",
    "session = saga.Session()\n",
    "session.add_context(ctx)\n",
    "\n",
    "# Create a job service object that represent a remote pbs cluster.\n",
    "js = saga.job.Service(\"pbs+ssh://gordon.sdsc.xsede.org\", session=session)\n",
    "\n",
    "# Set the parameters for this example\n",
    "local_port=9988\n",
    "remote_port=11111\n",
    "username='thauser'\n",
    "hostname='gordon.sdsc.xsede.org'\n",
    "\n",
    "# Next, we describe the job we want to run. A complete set of job\n",
    "# description attributes can be found in the API documentation.\n",
    "jd = saga.job.Description()\n",
    "jd.wall_time_limit   = 10 # minutes\n",
    "jd.executable        = \"ipython notebook --profile=nbserver\"\n",
    "jd.queue             = \"normal\"\n",
    "jd.working_directory = \"A\"\n",
    "jd.output            = \"ipythonjob.out\"\n",
    "jd.error             = \"ipythonjob.err\"\n",
    "\n",
    "# Create a new job from the job description. The initial state of\n",
    "# the job is 'New'.\n",
    "touchjob = js.create_job(jd)\n",
    "\n",
    "# Check our job's id and state\n",
    "print \"Job ID    : %s\" % (touchjob.id)\n",
    "print \"Job State : %s\" % (touchjob.state)\n",
    "\n",
    "# Now we can start our job.\n",
    "print \"\\n...starting job...\\n\"\n",
    "touchjob.run()\n",
    "\n",
    "print \"Job ID    : %s\" % (touchjob.id)\n",
    "print \"Job State : %s\" % (touchjob.state)\n",
    "\n",
    "# List all jobs that are known by the adaptor.\n",
    "# This should show our job as well.\n",
    "print \"\\nListing active jobs: \"\n",
    "for job in js.list():\n",
    "    print \" * %s\" % job\n",
    "\n",
    "# Now we disconnect and reconnect to our job by using the get_job()\n",
    "# method and our job's id. While this doesn't make a lot of sense\n",
    "# here,  disconnect / reconnect can become very important for\n",
    "# long-running job.\n",
    "\n",
    "touchjob_clone = js.get_job(touchjob.id)\n",
    "\n",
    "print touchjob_clone.state\n",
    "\n",
    "while touchjob_clone.state == 'Pending':\n",
    "    print \"...Waiting for Job to start....\"\n",
    "    time.sleep(30)\n",
    "\n",
    "nodename = touchjob_clone.execution_hosts[0]\n",
    "nodename = nodename[:-2]\n",
    "port=22\n",
    "tunnel.create_tunnel(local_port=local_port, remote_port=remote_port, nodename=nodename,\n",
    "                     username=username, hostname=hostname, port=port)\n",
    "\n",
    "print \"\\n * Open a browser window at https://localhost:%d\\n\" % local_port\n",
    "   \n",
    "# wait for our job to complete\n",
    "print \"\\n...waiting for ipython job to complete...\\n\"\n",
    "\n",
    "touchjob_clone.wait()\n",
    "\n",
    "print \"Job State   : %s\" % (touchjob_clone.state)\n",
    "print \"Exitcode    : %s\" % (touchjob_clone.exit_code)\n",
    "js.close()\n",
    "\n",
    "\n"
   ]
  },
  {
   "cell_type": "code",
   "execution_count": null,
   "metadata": {
    "collapsed": false
   },
   "outputs": [],
   "source": []
  }
 ],
 "metadata": {
  "celltoolbar": "Slideshow",
  "css": [
   ""
  ],
  "kernelspec": {
   "display_name": "Python 2",
   "language": "python",
   "name": "python2"
  },
  "language_info": {
   "codemirror_mode": {
    "name": "ipython",
    "version": 2
   },
   "file_extension": ".py",
   "mimetype": "text/x-python",
   "name": "python",
   "nbconvert_exporter": "python",
   "pygments_lexer": "ipython2",
   "version": "2.7.10"
  }
 },
 "nbformat": 4,
 "nbformat_minor": 0
}
